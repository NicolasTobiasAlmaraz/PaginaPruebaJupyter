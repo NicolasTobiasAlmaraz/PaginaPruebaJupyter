{
 "cells": [
  {
   "cell_type": "markdown",
   "id": "3687c0b2",
   "metadata": {},
   "source": [
    "#Nicolás Almaraz Documentación de Prueba\n",
    "![logo utn](./images/logoUtnjpg.jpg)\n",
    "\n",
    "##Subtitulo\n",
    "Hola perro q onda\n",
    "Ejemplo de lista:\n",
    "- item 1\n",
    "- item 2\n",
    "- item 3\n",
    "\n",
    "##Ejemplo de código"
   ]
  },
  {
   "cell_type": "code",
   "execution_count": null,
   "id": "7479feaf",
   "metadata": {},
   "outputs": [],
   "source": [
    "#!/usr/bin/env python3\n",
    "# -*- coding: utf-8 -*-\n",
    "\"\"\"\n",
    "Created on Wed May  8 23:14:49 2019\n",
    "\n",
    "@author: mariano\n",
    "\"\"\"\n",
    "\n",
    "import matplotlib.pyplot as plt\n",
    "import numpy as np\n",
    "import scipy.signal as sig\n",
    "\n",
    "# Librería de TC2, esta la vas a usar mucho\n",
    "from pytc2.sistemas_lineales import analyze_sys, pretty_print_bicuad_omegayq\n",
    "\n",
    "\n",
    "# # ejemplo simple\n",
    "# wo = 1\n",
    "# qq = np.sqrt(2)/2 \n",
    "\n",
    "# num = np.array([wo**2]) \n",
    "# den = np.array([1, wo/qq, wo**2])\n",
    "\n",
    "# pretty_print_bicuad_omegayq(num,den)\n",
    "\n",
    "# mi_sos = sig.TransferFunction(num,den)\n",
    "    \n",
    "# plt.close('all')\n",
    "# analyze_sys(mi_sos, 'mi SOS')\n",
    "\n",
    "\n",
    "# parametrización de wo o Q.\n",
    "all_sos = []\n",
    "all_values = [0.5, 1,5,10]\n",
    "\n",
    "for ii in all_values:\n",
    "    \n",
    "    wo = ii\n",
    "    qq = np.sqrt(2)/2 \n",
    "    \n",
    "    num = np.array([wo**2]) \n",
    "    den = np.array([1, wo/qq, wo**2])\n",
    "    \n",
    "    pretty_print_bicuad_omegayq(num,den)\n",
    "\n",
    "    mi_sos = sig.TransferFunction(num,den)\n",
    "\n",
    "    all_sos += [mi_sos]\n",
    "    \n",
    "plt.close('all')\n",
    "analyze_sys(all_sos, sys_name=all_values)\n",
    "\n"
   ]
  }
 ],
 "metadata": {
  "kernelspec": {
   "display_name": "Python 3 (ipykernel)",
   "language": "python",
   "name": "python3"
  },
  "language_info": {
   "codemirror_mode": {
    "name": "ipython",
    "version": 3
   },
   "file_extension": ".py",
   "mimetype": "text/x-python",
   "name": "python",
   "nbconvert_exporter": "python",
   "pygments_lexer": "ipython3",
   "version": "3.11.1"
  }
 },
 "nbformat": 4,
 "nbformat_minor": 5
}
